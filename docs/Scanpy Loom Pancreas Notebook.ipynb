{
 "cells": [
  {
   "cell_type": "markdown",
   "metadata": {},
   "source": [
    "# Working with a loom matrix service output\n",
    "\n",
    "Below are some examples of working with a loom-formatted output file from the HCA Matrix Service. The file in question is created from the \"Single cell transcriptome analysis of human pancreas\" project that is one of the HCA beta datasets.\n",
    "\n",
    "To start, install `scanpy` and `loompy`:"
   ]
  },
  {
   "cell_type": "code",
   "execution_count": 34,
   "metadata": {},
   "outputs": [
    {
     "name": "stdout",
     "output_type": "stream",
     "text": [
      "Requirement already satisfied: scanpy in /opt/conda/lib/python3.6/site-packages (1.4)\n",
      "Requirement already satisfied: loompy in /opt/conda/lib/python3.6/site-packages (2.0.17)\n",
      "Requirement already satisfied: anndata>=0.6.15 in /opt/conda/lib/python3.6/site-packages (from scanpy) (0.6.18)\n",
      "Requirement already satisfied: natsort in /opt/conda/lib/python3.6/site-packages (from scanpy) (6.0.0)\n",
      "Requirement already satisfied: joblib in /opt/conda/lib/python3.6/site-packages (from scanpy) (0.13.2)\n",
      "Requirement already satisfied: tables in /opt/conda/lib/python3.6/site-packages (from scanpy) (3.4.4)\n",
      "Requirement already satisfied: matplotlib>=2.2 in /opt/conda/lib/python3.6/site-packages (from scanpy) (2.2.3)\n",
      "Requirement already satisfied: patsy in /opt/conda/lib/python3.6/site-packages (from scanpy) (0.5.0)\n",
      "Requirement already satisfied: numba>=0.40.0 in /opt/conda/lib/python3.6/site-packages (from scanpy) (0.42.1)\n",
      "Requirement already satisfied: seaborn in /opt/conda/lib/python3.6/site-packages (from scanpy) (0.9.0)\n",
      "Requirement already satisfied: scipy in /opt/conda/lib/python3.6/site-packages (from scanpy) (1.1.0)\n",
      "Requirement already satisfied: pandas>=0.21 in /opt/conda/lib/python3.6/site-packages (from scanpy) (0.23.4)\n",
      "Requirement already satisfied: statsmodels in /opt/conda/lib/python3.6/site-packages (from scanpy) (0.9.0)\n",
      "Requirement already satisfied: networkx in /opt/conda/lib/python3.6/site-packages (from scanpy) (2.2)\n",
      "Requirement already satisfied: h5py in /opt/conda/lib/python3.6/site-packages (from scanpy) (2.7.1)\n",
      "Requirement already satisfied: scikit-learn>=0.19.1 in /opt/conda/lib/python3.6/site-packages (from scanpy) (0.19.2)\n",
      "Requirement already satisfied: numpy in /opt/conda/lib/python3.6/site-packages (from loompy) (1.13.3)\n",
      "Requirement already satisfied: setuptools in /opt/conda/lib/python3.6/site-packages (from loompy) (40.4.3)\n",
      "Requirement already satisfied: numexpr>=2.5.2 in /opt/conda/lib/python3.6/site-packages (from tables->scanpy) (2.6.8)\n",
      "Requirement already satisfied: six>=1.9.0 in /opt/conda/lib/python3.6/site-packages (from tables->scanpy) (1.11.0)\n",
      "Requirement already satisfied: cycler>=0.10 in /opt/conda/lib/python3.6/site-packages (from matplotlib>=2.2->scanpy) (0.10.0)\n",
      "Requirement already satisfied: pyparsing!=2.0.4,!=2.1.2,!=2.1.6,>=2.0.1 in /opt/conda/lib/python3.6/site-packages (from matplotlib>=2.2->scanpy) (2.2.2)\n",
      "Requirement already satisfied: python-dateutil>=2.1 in /opt/conda/lib/python3.6/site-packages (from matplotlib>=2.2->scanpy) (2.7.4)\n",
      "Requirement already satisfied: pytz in /opt/conda/lib/python3.6/site-packages (from matplotlib>=2.2->scanpy) (2018.6)\n",
      "Requirement already satisfied: kiwisolver>=1.0.1 in /opt/conda/lib/python3.6/site-packages (from matplotlib>=2.2->scanpy) (1.0.1)\n",
      "Requirement already satisfied: llvmlite>=0.27.0dev0 in /opt/conda/lib/python3.6/site-packages (from numba>=0.40.0->scanpy) (0.27.1)\n",
      "Requirement already satisfied: decorator>=4.3.0 in /opt/conda/lib/python3.6/site-packages (from networkx->scanpy) (4.3.0)\n"
     ]
    }
   ],
   "source": [
    "import sys\n",
    "!{sys.executable} -m pip install scanpy loompy"
   ]
  },
  {
   "cell_type": "markdown",
   "metadata": {},
   "source": [
    "Now, \"connect\" to the loom file using `loompy` and investigate it."
   ]
  },
  {
   "cell_type": "code",
   "execution_count": 5,
   "metadata": {},
   "outputs": [],
   "source": [
    "import loompy\n",
    "ds = loompy.connect(\"Single_cell_transcriptome_analysis_of_human_pancreas.loom\")"
   ]
  },
  {
   "cell_type": "code",
   "execution_count": 6,
   "metadata": {},
   "outputs": [
    {
     "data": {
      "text/plain": [
       "(63880, 2544)"
      ]
     },
     "execution_count": 6,
     "metadata": {},
     "output_type": "execute_result"
    }
   ],
   "source": [
    "ds.shape"
   ]
  },
  {
   "cell_type": "markdown",
   "metadata": {},
   "source": [
    "The shape tells us that this dataset has 2,544 cells and reference used has 63,880 annotated genes. Some information about those genes is available in the loom row attributes:"
   ]
  },
  {
   "cell_type": "code",
   "execution_count": 7,
   "metadata": {},
   "outputs": [
    {
     "data": {
      "text/plain": [
       "['Accession',\n",
       " 'Gene',\n",
       " 'chromosome',\n",
       " 'featureend',\n",
       " 'featurestart',\n",
       " 'featuretype',\n",
       " 'isgene']"
      ]
     },
     "execution_count": 7,
     "metadata": {},
     "output_type": "execute_result"
    }
   ],
   "source": [
    "ds.ra.keys()"
   ]
  },
  {
   "cell_type": "code",
   "execution_count": 22,
   "metadata": {},
   "outputs": [
    {
     "name": "stdout",
     "output_type": "stream",
     "text": [
      "['ENSG00000250426' 'ENSG00000260459' 'ENSG00000233952' 'ENSG00000229735'\n",
      " 'ENSG00000228347' 'ENSG00000230214' 'ENSG00000237913' 'ENSG00000232368'\n",
      " 'ENSG00000226608' 'ENSG00000214020' 'ENSG00000266989' 'ENSG00000254984'\n",
      " 'ENSG00000232217' 'ENSG00000181867' 'ENSG00000140718']\n",
      "['FTLP10' 'FTLP14' 'FTLP15' 'FTLP16' 'FTLP17' 'FTLP18' 'FTLP19' 'FTLP2'\n",
      " 'FTLP3' 'FTLP4' 'FTLP5' 'FTLP6' 'FTLP8' 'FTMT' 'FTO']\n",
      "['chr4' 'chr16' 'chr7' 'chrX' 'chr1' 'chr1' 'chr10' 'chrX' 'chr20' 'chr9'\n",
      " 'chr19' 'chr11' 'chr13' 'chr5' 'chr16']\n"
     ]
    }
   ],
   "source": [
    "print(ds.ra[\"Accession\"][30000:30015])\n",
    "print(ds.ra[\"Gene\"][30000:30015])\n",
    "print(ds.ra[\"chromosome\"][30000:30015])"
   ]
  },
  {
   "cell_type": "markdown",
   "metadata": {},
   "source": [
    "The Ensembl ids of the genes are stored as \"Accession\", and the symbol is stored as \"Gene\". This follows the published loom conventions. Cell metadata is available as column attributes:"
   ]
  },
  {
   "cell_type": "code",
   "execution_count": 13,
   "metadata": {},
   "outputs": [
    {
     "data": {
      "text/plain": [
       "['CellID',\n",
       " 'bundle_fqid',\n",
       " 'construction_approach_label',\n",
       " 'construction_approach_ontology',\n",
       " 'development_stage_label',\n",
       " 'development_stage_ontology',\n",
       " 'disease_label',\n",
       " 'disease_ontology',\n",
       " 'end_bias',\n",
       " 'ethnicity_label',\n",
       " 'ethnicity_ontology',\n",
       " 'genes_detected',\n",
       " 'genus_species_label',\n",
       " 'genus_species_ontology',\n",
       " 'input_nucleic_acid_label',\n",
       " 'input_nucleic_acid_ontology',\n",
       " 'librarykey',\n",
       " 'organ_label',\n",
       " 'organ_ontology',\n",
       " 'organ_part_label',\n",
       " 'organ_part_ontology',\n",
       " 'protocol',\n",
       " 'short_name',\n",
       " 'specimenkey',\n",
       " 'strand']"
      ]
     },
     "execution_count": 13,
     "metadata": {},
     "output_type": "execute_result"
    }
   ],
   "source": [
    "ds.ca.keys()"
   ]
  },
  {
   "cell_type": "code",
   "execution_count": 17,
   "metadata": {},
   "outputs": [
    {
     "name": "stdout",
     "output_type": "stream",
     "text": [
      "{'Single cell transcriptome analysis of human pancreas'}\n",
      "{'EFO:0008931'}\n",
      "{'Smart-seq2'}\n",
      "[5629 3951 2042 5492 6008 4890  847  527 4123 3340 5514 5335 4293 7975 5841\n",
      " 3259  766 3202 2620 2830 6088 4635 7473 3424 4601 3531 4834 7173 2553 4198]\n"
     ]
    }
   ],
   "source": [
    "print(set(ds.ca[\"short_name\"]))\n",
    "print(set(ds.ca[\"construction_approach_ontology\"]))\n",
    "print(set(ds.ca[\"construction_approach_label\"]))\n",
    "print(ds.ca[\"genes_detected\"][:30])"
   ]
  },
  {
   "cell_type": "markdown",
   "metadata": {},
   "source": [
    "All of these cells are from a single project, so much of the metadata is the same across all cells. Also note that often metadata fields come in pairs: one field that stores the ontology value and one that stores the ontology label. Now, let's load this file into scanpy."
   ]
  },
  {
   "cell_type": "code",
   "execution_count": 23,
   "metadata": {},
   "outputs": [
    {
     "name": "stderr",
     "output_type": "stream",
     "text": [
      "Variable names are not unique. To make them unique, call `.var_names_make_unique`.\n"
     ]
    }
   ],
   "source": [
    "import scanpy\n",
    "adata = scanpy.read_loom(\"Single_cell_transcriptome_analysis_of_human_pancreas.loom\")"
   ]
  },
  {
   "cell_type": "markdown",
   "metadata": {},
   "source": [
    "Scanpy reads the loom file correctly, but note that by default, scanpy uses the \"Gene\" field for variable names. It correctly complains that those are not unique. We can fix that by using scanpy's method, or we can specify the \"Accession\" field for variable names."
   ]
  },
  {
   "cell_type": "code",
   "execution_count": 24,
   "metadata": {},
   "outputs": [],
   "source": [
    "adata = scanpy.read_loom(\"Single_cell_transcriptome_analysis_of_human_pancreas.loom\", var_names=\"Accession\")"
   ]
  },
  {
   "cell_type": "markdown",
   "metadata": {},
   "source": [
    "Now we can do whatever we want with scanpy:"
   ]
  },
  {
   "cell_type": "code",
   "execution_count": 28,
   "metadata": {},
   "outputs": [],
   "source": [
    "import scanpy.api as sc\n",
    "sc.pp.filter_genes(adata, min_counts=1)\n",
    "adata.shape\n",
    "sc.pp.normalize_per_cell(adata)"
   ]
  },
  {
   "cell_type": "code",
   "execution_count": 30,
   "metadata": {},
   "outputs": [
    {
     "name": "stdout",
     "output_type": "stream",
     "text": [
      "WARNING: You're trying to run this on 42323 dimensions of `.X`, if you really want this, set `use_rep='X'`.\n",
      "         Falling back to preprocessing with `sc.pp.pca` and default params.\n"
     ]
    }
   ],
   "source": [
    "sc.pp.neighbors(adata)"
   ]
  },
  {
   "cell_type": "code",
   "execution_count": 33,
   "metadata": {},
   "outputs": [
    {
     "name": "stderr",
     "output_type": "stream",
     "text": [
      "... storing 'construction_approach_label' as categorical\n",
      "... storing 'construction_approach_ontology' as categorical\n",
      "... storing 'disease_label' as categorical\n",
      "... storing 'disease_ontology' as categorical\n",
      "... storing 'end_bias' as categorical\n",
      "... storing 'ethnicity_label' as categorical\n",
      "... storing 'ethnicity_ontology' as categorical\n",
      "... storing 'genus_species_label' as categorical\n",
      "... storing 'genus_species_ontology' as categorical\n",
      "... storing 'input_nucleic_acid_label' as categorical\n",
      "... storing 'input_nucleic_acid_ontology' as categorical\n",
      "... storing 'librarykey' as categorical\n",
      "... storing 'organ_label' as categorical\n",
      "... storing 'organ_ontology' as categorical\n",
      "... storing 'organ_part_label' as categorical\n",
      "... storing 'organ_part_ontology' as categorical\n",
      "... storing 'protocol' as categorical\n",
      "... storing 'short_name' as categorical\n",
      "... storing 'specimenkey' as categorical\n",
      "... storing 'strand' as categorical\n",
      "... storing 'Gene' as categorical\n",
      "... storing 'chromosome' as categorical\n",
      "... storing 'featuretype' as categorical\n"
     ]
    },
    {
     "data": {
      "image/png": "[encoded data removed]",
      "text/plain": [
       "<Figure size 432x288 with 1 Axes>"
      ]
     },
     "metadata": {},
     "output_type": "display_data"
    }
   ],
   "source": [
    "sc.tl.umap(adata)\n",
    "sc.pl.umap(adata)"
   ]
  }
 ],
 "metadata": {
  "kernelspec": {
   "display_name": "Python 3",
   "language": "python",
   "name": "python3"
  },
  "language_info": {
   "codemirror_mode": {
    "name": "ipython",
    "version": 3
   },
   "file_extension": ".py",
   "mimetype": "text/x-python",
   "name": "python",
   "nbconvert_exporter": "python",
   "pygments_lexer": "ipython3",
   "version": "3.6.6"
  }
 },
 "nbformat": 4,
 "nbformat_minor": 2
}
